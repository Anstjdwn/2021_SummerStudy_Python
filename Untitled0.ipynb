{
  "nbformat": 4,
  "nbformat_minor": 0,
  "metadata": {
    "colab": {
      "name": "Untitled0.ipynb",
      "provenance": [],
      "authorship_tag": "ABX9TyMw7UUM3DTQlfYqDLxY2hv7",
      "include_colab_link": true
    },
    "kernelspec": {
      "name": "python3",
      "display_name": "Python 3"
    },
    "language_info": {
      "name": "python"
    }
  },
  "cells": [
    {
      "cell_type": "markdown",
      "metadata": {
        "id": "view-in-github",
        "colab_type": "text"
      },
      "source": [
        "<a href=\"https://colab.research.google.com/github/Anstjdwn/2021_SummerStudy_Python/blob/main/Untitled0.ipynb\" target=\"_parent\"><img src=\"https://colab.research.google.com/assets/colab-badge.svg\" alt=\"Open In Colab\"/></a>"
      ]
    },
    {
      "cell_type": "code",
      "metadata": {
        "colab": {
          "base_uri": "https://localhost:8080/"
        },
        "id": "LGLYwhwq0pso",
        "outputId": "abb0ffcd-44a5-4a1f-cc13-7abf80e6b58f"
      },
      "source": [
        "print('This is cell!')"
      ],
      "execution_count": 8,
      "outputs": [
        {
          "output_type": "stream",
          "text": [
            "This is cell!\n"
          ],
          "name": "stdout"
        }
      ]
    },
    {
      "cell_type": "code",
      "metadata": {
        "id": "SWTfSfQ51ZES"
      },
      "source": [
        ""
      ],
      "execution_count": 8,
      "outputs": []
    },
    {
      "cell_type": "markdown",
      "metadata": {
        "id": "TKIN0d3D1i1S"
      },
      "source": [
        "컨트롤 + 엔터 =해당 셀 실행하고 커서를 헤당 셀에 둔다(겉과 값만 보고자 할때)\n",
        "쉬프트 + 엔터 =해당 셀 실행하고 커서를 다음 셀에 넘긴다(여러가지 빠르게 출력할때\n",
        "알트 + 엔터 = 해당 셀을 실행하고 셀 삽입 후 커서를 삽인한 셀로 넘기는것(다음 작업공간 없을때)"
      ]
    },
    {
      "cell_type": "markdown",
      "metadata": {
        "id": "UZ9pokUz27Si"
      },
      "source": [
        "비활성화 할때 esc 필수\n",
        "컨트롤 + M A = 코드 셀 위해 삽입 \n",
        "컨트롤 + M B = 코드 셀 아래 삽입\n",
        "컨트롤 + M D = 셀 지우기 \n",
        "컨트롤 + M Y = 코드 셀로 변경\n",
        "컨트롤 + M M = 마크다운 셀로 변경\n",
        "컨트롤 + M Z = 실행취소"
      ]
    },
    {
      "cell_type": "markdown",
      "metadata": {
        "id": "PNU2KLtf3yip"
      },
      "source": [
        "# 대제목 \n",
        "## 중제목 \n",
        "### 소제목 \n",
        "**진하게**\n",
        "# **대제목**\n"
      ]
    }
  ]
}